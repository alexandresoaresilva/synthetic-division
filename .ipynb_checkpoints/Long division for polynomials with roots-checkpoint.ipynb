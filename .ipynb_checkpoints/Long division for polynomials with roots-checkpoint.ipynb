{
 "cells": [
  {
   "cell_type": "code",
   "execution_count": 1,
   "metadata": {},
   "outputs": [],
   "source": [
    "import numpy as np\n",
    "import math\n",
    "from random import randint"
   ]
  },
  {
   "cell_type": "markdown",
   "metadata": {},
   "source": [
    "## helper functions \n",
    "synthetic division calculations"
   ]
  },
  {
   "cell_type": "code",
   "execution_count": 2,
   "metadata": {},
   "outputs": [],
   "source": [
    "def eval_poly(poly, x):\n",
    "    L = len(poly)\n",
    "    deg = L-1\n",
    "    results = 0\n",
    "    for i in range(L):\n",
    "        results += np.multiply(poly[i], np.power(x, deg-i))\n",
    "    return results\n",
    "\n",
    "def quotient(poly, k, deg_divisor):\n",
    "    deg_poly = len(poly)-1\n",
    "    deg_quotient = deg_poly - deg_divisor\n",
    "    coeff = []\n",
    "    for i in range(deg_quotient + 1):\n",
    "        coeff.append(eval_poly(poly[:i+1], k))\n",
    "    return coeff\n",
    "\n",
    "#Q(x)=x-k quotient\n",
    "#R : remainder\n",
    "def synth_div(poly, k):\n",
    "    #I don't remember why the 1 is here\n",
    "    Q = quotient(poly, k, 1)\n",
    "    R = eval_poly(poly, k)\n",
    "#     print('quotient: ' + str(Q))\n",
    "#     print('remainder: ' + str(R))\n",
    "    return Q, R"
   ]
  },
  {
   "cell_type": "markdown",
   "metadata": {},
   "source": [
    "## Newton's method for finding roots\n",
    "\n",
    "    -Works for real and complex roots\n",
    "    -criteria for stopping Newton's method is if remainder < 10^(-6)\n",
    "    -Takes in ploynomials of arbitrary length"
   ]
  },
  {
   "cell_type": "code",
   "execution_count": 84,
   "metadata": {},
   "outputs": [],
   "source": [
    "# In[ ]:\n",
    "\n",
    "def round_if_close_to_int(root):\n",
    "    abs_real = np.abs(root.real)\n",
    "    abs_imag = np.abs(root.imag)\n",
    "\n",
    "    if np.abs(abs_real - np.round(abs_real)) < 1e-6:\n",
    "        root = np.round(root.real) + 1j*root.imag\n",
    "                \n",
    "    if np.abs(abs_imag - np.round(abs_imag)) < 1e-6:\n",
    "        root =  root.real + 1j*np.round(root.imag)\n",
    "    return root\n",
    "    \n",
    "def newtons_method_one_root(poly, x0):\n",
    "    root = 0 + 0j\n",
    "    i = 0\n",
    "    while not root: #can be paralellized\n",
    "        Q, R = synth_div(poly, x0)\n",
    "        if np.abs(R) < 1e-11:\n",
    "            root = x0\n",
    "            root = round_if_close_to_int(root)\n",
    "            \n",
    "            if np.abs(root.real) < 1e-6:\n",
    "                root = 0 + 1j*root.imag\n",
    "            if np.abs(root.imag) < 1e-6:\n",
    "                root = root.real + 1j*0\n",
    "                \n",
    "            break\n",
    "        x0 = x0 - np.divide(R, eval_poly(Q, x0))\n",
    "        i = i + 1\n",
    "            \n",
    "    return root, i, Q\n",
    "\n",
    "def print_roots(roots, iterations_per_root):\n",
    "    for i in range(len(roots)):\n",
    "        print('root ' + str(i+1) + ': {0:.5f}'.format(roots[i]) + \\\n",
    "              '. Found in ' + str(iterations_per_root[i]) +' iterations.')\n",
    "        \n",
    "#a = synth_div([1, -10, 35, -50, 24], 4) # (x-1)(x-2)(x-3)(x-4)\n",
    "def newtons_method_all_roots(poly):\n",
    "    L = len(poly)\n",
    "    deg = L-1\n",
    "    deg_track_solve = deg\n",
    "    roots = []\n",
    "    iterations_per_root = []\n",
    "    total_iter = 0\n",
    "    j = 1\n",
    "    print('==========================================')\n",
    "    print('Newton''s method using synthetic division ')\n",
    "    print('polynomial of degree ' + str(deg))\n",
    "    print()\n",
    "\n",
    "    while deg_track_solve: #can be paralellized\n",
    "        throw_the_dice = np.random.uniform(low=np.min(poly), high=np.max(poly), size=None)\n",
    "        throw_the_dice2 = np.random.uniform(low=np.min(poly), high=np.max(poly), size=None)\n",
    "#         throw_the_dice = np.random.random()\n",
    "#         throw_the_dice = .5\n",
    "#         throw_the_dice2 = np.random.random()\n",
    "        \n",
    "        x0 = throw_the_dice + 1j*throw_the_dice2\n",
    "        \n",
    "#         print('x0 guess for root ' + str(j) + ': ' + str(x0))\n",
    "        root, i, Q = newtons_method_one_root(poly, x0)\n",
    "        if np.imag(root) == 0:\n",
    "            root = np.real(root)\n",
    "        roots.append(root), iterations_per_root.append(i)\n",
    "        total_iter += i\n",
    "        deg_track_solve -= 1\n",
    "        poly = Q    \n",
    "        j += 1 #keeps track of iterations within while loop\n",
    "#         if i > 1e3:\n",
    "#             break\n",
    "    print()\n",
    "    print_roots(roots, iterations_per_root)\n",
    "    print()\n",
    "    print('found in ' + str(total_iter) + ' total iteration(s)')\n",
    "    print()\n",
    "    \n",
    "    return np.asarray(roots), iterations_per_root, total_iter"
   ]
  },
  {
   "cell_type": "code",
   "execution_count": 85,
   "metadata": {},
   "outputs": [],
   "source": [
    "def poly_solve(polynomial):\n",
    "#     root = np.zeros((len(polynomial)-1,1))\n",
    "#     iterations_per_root\n",
    "    if len(polynomial) < 3:\n",
    "        if len(polynomial) == 2:\n",
    "            if polynomial[1] is not 0:\n",
    "                root = -polynomial[0]/polynomial[1]\n",
    "#                 return -polynomial[0]/polynomial[1]\n",
    "            iterations_per_root, total_iter = 0, 0\n",
    "        else: #either len == 1 or 0*x (polynomial[1] == 0)\n",
    "            print('it''s a constant.')\n",
    "    elif len(polynomial) == 3:\n",
    "        a, b, c = polynomial[0], polynomial[1], polynomial[2]\n",
    "        delta = b**2-4*a*c\n",
    "        x1, x2 = (-b + np.sqrt(delta))/(2*a), (-b - np.sqrt(delta))/(2*a)\n",
    "        roots = np.asarray([x1, x2])\n",
    "        print(roots)\n",
    "        iterations_per_root, total_iter = 0, 0\n",
    "    else:\n",
    "        roots, iterations_per_root, total_iter = newtons_method_all_roots(poly)\n",
    "    \n",
    "    return roots, iterations_per_root, total_iter"
   ]
  },
  {
   "cell_type": "markdown",
   "metadata": {},
   "source": [
    "## tests with polynomials\n",
    "    \n",
    "    results can be compared with:\n",
    "    https://www.mathportal.org/calculators/solving-equations/polynomial-equation-solver.php"
   ]
  },
  {
   "cell_type": "code",
   "execution_count": 86,
   "metadata": {},
   "outputs": [
    {
     "name": "stdout",
     "output_type": "stream",
     "text": [
      "==========================================\n",
      "Newtons method using synthetic division \n",
      "polynomial of degree 8\n",
      "\n",
      "\n",
      "root 1: 0.90631+0.33639j. Found in 15 iterations.\n",
      "root 2: -0.35888+1.00734j. Found in 10 iterations.\n",
      "root 3: 0.45373-0.91674j. Found in 11 iterations.\n",
      "root 4: -1.00116-0.43601j. Found in 15 iterations.\n",
      "root 5: 0.90631-0.33639j. Found in 10 iterations.\n",
      "root 6: 0.45373+0.91674j. Found in 7 iterations.\n",
      "root 7: -1.00116+0.43601j. Found in 9 iterations.\n",
      "root 8: -0.35888-1.00734j. Found in 1 iterations.\n",
      "\n",
      "found in 78 total iteration(s)\n",
      "\n"
     ]
    },
    {
     "name": "stderr",
     "output_type": "stream",
     "text": [
      "C:\\ProgramData\\Anaconda3\\lib\\site-packages\\ipykernel_launcher.py:54: ComplexWarning: Casting complex values to real discards the imaginary part\n",
      "C:\\ProgramData\\Anaconda3\\lib\\site-packages\\ipykernel_launcher.py:55: ComplexWarning: Casting complex values to real discards the imaginary part\n"
     ]
    }
   ],
   "source": [
    "    # poly = np.array([2, 1, -4, 4])\n",
    "# poly = np.array([1, 5/6, 1/6])\n",
    "# poly = np.array([1, -10, 35, -50, 24])\n",
    "# poly = np.array([2, 3, 2, -2, 4])\n",
    "poly = np.array([3, 0, 0, 0, 0, 0, 0, -2, 4])\n",
    "# Complex roots:\n",
    "# 1. x = -1.251-i*1.107\n",
    "# 2. x = -1.251+i*1.107\n",
    "# 3. x = 0.501-i*0.683\n",
    "# 4. x = 0.501+i*0.683\n",
    "\n",
    "roots, iterations_per_root, total_iter = poly_solve(poly)\n",
    "# roots, iterations_per_root, total_iter = newtons_import multiprocessing as mp\n",
    "# print(\"Number of processors: \", mp.cpu_count())"
   ]
  }
 ],
 "metadata": {
  "kernelspec": {
   "display_name": "Python 3",
   "language": "python",
   "name": "python3"
  },
  "language_info": {
   "codemirror_mode": {
    "name": "ipython",
    "version": 3
   },
   "file_extension": ".py",
   "mimetype": "text/x-python",
   "name": "python",
   "nbconvert_exporter": "python",
   "pygments_lexer": "ipython3",
   "version": "3.7.4"
  }
 },
 "nbformat": 4,
 "nbformat_minor": 2
}
